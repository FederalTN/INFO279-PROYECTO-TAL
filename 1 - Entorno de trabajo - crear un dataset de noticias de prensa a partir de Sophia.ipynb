{
 "cells": [
  {
   "cell_type": "markdown",
   "id": "00bc0c0a",
   "metadata": {},
   "source": [
    "# Entorno de trabajo: Crear un dataset de noticias de prensa a partir del motor de búsqueda Sophia"
   ]
  },
  {
   "cell_type": "markdown",
   "id": "dc35efc7",
   "metadata": {},
   "source": [
    "Este notebook muestra una manera de extraer noticias desde el motor de búsqueda de _Sophia_, a partir de una **palabra clave**, un **país** y un **periodo de tiempo**.\n",
    "\n",
    "\n",
    "_Sophia_ es un proyecto I+i+D desarrollado en la Universidad Austral de Chile desde 2019. El motor de búsqueda se encuentra en fase de mejoramiento continuo. Por cualquier pregunta o problema técnica con este notebook, no dudar en contactarme por Discord (@MatthieuVernier) o por correo mvernier@inf.uach.cl."
   ]
  },
  {
   "cell_type": "markdown",
   "id": "b60b79ff",
   "metadata": {},
   "source": [
    "## 0. Librerías útiles"
   ]
  },
  {
   "cell_type": "markdown",
   "id": "0284eded",
   "metadata": {},
   "source": [
    "- Elasticsearch es el motor de búsqueda utilizado por Sophia\n",
    "- Requiere la instalación del paquete elasticsearch"
   ]
  },
  {
   "cell_type": "code",
   "execution_count": 1,
   "id": "b500b748",
   "metadata": {},
   "outputs": [
    {
     "name": "stdout",
     "output_type": "stream",
     "text": [
      "Python 3.8.10\r\n"
     ]
    }
   ],
   "source": [
    "!python -V"
   ]
  },
  {
   "cell_type": "code",
   "execution_count": 2,
   "id": "0420b9c3",
   "metadata": {},
   "outputs": [
    {
     "name": "stdout",
     "output_type": "stream",
     "text": [
      "Requirement already satisfied: elasticsearch in /home/mvernier/.local/lib/python3.8/site-packages (7.16.3)\n",
      "Requirement already satisfied: certifi in /usr/lib/python3/dist-packages (from elasticsearch) (2019.11.28)\n",
      "Requirement already satisfied: urllib3<2,>=1.21.1 in /usr/lib/python3/dist-packages (from elasticsearch) (1.25.8)\n"
     ]
    }
   ],
   "source": [
    "!pip install elasticsearch"
   ]
  },
  {
   "cell_type": "code",
   "execution_count": 3,
   "id": "8e32dfe6",
   "metadata": {},
   "outputs": [],
   "source": [
    "from elasticsearch import Elasticsearch\n",
    "from datetime import datetime"
   ]
  },
  {
   "cell_type": "markdown",
   "id": "05a9c8c7",
   "metadata": {},
   "source": [
    "## 1. Parámetros de la búsqueda"
   ]
  },
  {
   "cell_type": "markdown",
   "id": "64de7603",
   "metadata": {},
   "source": [
    "Características del motor de búsqueda:  \n",
    "- El formato de las fechas es: YYYY-MM-DD\n",
    "- El motor de búsqueda incluye noticias por distintos paises, pero se recomienda utilizar \"chile\" por el momento.\n",
    "- El motor de búsqueda incluye datos entre el año 2000 y el año 2021."
   ]
  },
  {
   "cell_type": "code",
   "execution_count": 4,
   "id": "ce408e4d",
   "metadata": {},
   "outputs": [],
   "source": [
    "country=\"chile\"\n",
    "from_=\"2010-01-01\"\n",
    "to_=\"2021-12-31\"\n",
    "\n",
    "keyword=\"biodiversidad\"\n",
    "simple_keyword=True"
   ]
  },
  {
   "cell_type": "markdown",
   "id": "6efe0b5a",
   "metadata": {},
   "source": [
    "## 2. Parámetros de conexión al motor de búsqueda de Sophia"
   ]
  },
  {
   "cell_type": "code",
   "execution_count": 5,
   "id": "7acec13c",
   "metadata": {},
   "outputs": [],
   "source": [
    "IP = \"search.sophia2.org\"\n",
    "PORT = 9200\n",
    "USER= \"elastic\"\n",
    "PASS= \"dummy_elastic\""
   ]
  },
  {
   "cell_type": "code",
   "execution_count": 6,
   "id": "621d9af0",
   "metadata": {},
   "outputs": [],
   "source": [
    "#NO MODIFICAR\n",
    "\n",
    "es = Elasticsearch(\n",
    "    IP,\n",
    "    #port=PORT,\n",
    "    http_auth=(USER, PASS)\n",
    ")"
   ]
  },
  {
   "cell_type": "markdown",
   "id": "440d3027",
   "metadata": {},
   "source": [
    "## 3. Búsqueda de noticias de prensa"
   ]
  },
  {
   "cell_type": "markdown",
   "id": "baeb2ceb",
   "metadata": {},
   "source": [
    "- Preparación de la consulta en el formato solicitado por Elasticsearch"
   ]
  },
  {
   "cell_type": "code",
   "execution_count": 7,
   "id": "7fdb0b5e",
   "metadata": {},
   "outputs": [],
   "source": [
    "#NO MODIFICAR\n",
    "match=\"\"\n",
    "if (simple_keyword):\n",
    "    match=\"match\"\n",
    "else:\n",
    "    match=\"match_phrase\"\n",
    "\n",
    "query = { \n",
    "    \"bool\": { \n",
    "      \"must\": [\n",
    "        {match: { \"text\":keyword}}\n",
    "\n",
    "      ],\n",
    "    \"filter\": [\n",
    "        {\"range\": {\n",
    "      \"date\": {\n",
    "        \"gte\": from_,\n",
    "        \"lt\": to_\n",
    "      }}},\n",
    "        { \"term\":  { \"country\": country }} \n",
    "    ]\n",
    "    }  \n",
    "}"
   ]
  },
  {
   "cell_type": "markdown",
   "id": "025f7b7c",
   "metadata": {},
   "source": [
    "- Envio de la consulta\n",
    "- No se puede devolver más de 10.000 noticias. En caso de obtener 10.000 respuestas, se recomienda buscar en un periodo de tiempo más corto o modificar la consulta."
   ]
  },
  {
   "cell_type": "code",
   "execution_count": 8,
   "id": "75593058",
   "metadata": {},
   "outputs": [
    {
     "name": "stdout",
     "output_type": "stream",
     "text": [
      "Son 4283 noticias encontradas...\n"
     ]
    }
   ],
   "source": [
    "res = es.search(index=\"news\", query=query, size=10000)\n",
    "print(\"Son %d noticias encontradas...\" % res['hits']['total']['value'])"
   ]
  },
  {
   "cell_type": "markdown",
   "id": "84d3ebba",
   "metadata": {},
   "source": [
    "## 4. Guardar los datos en un dataframe Pandas y en un archivo CSV"
   ]
  },
  {
   "cell_type": "code",
   "execution_count": 9,
   "id": "c40a60d6",
   "metadata": {},
   "outputs": [
    {
     "data": {
      "text/html": [
       "<div>\n",
       "<style scoped>\n",
       "    .dataframe tbody tr th:only-of-type {\n",
       "        vertical-align: middle;\n",
       "    }\n",
       "\n",
       "    .dataframe tbody tr th {\n",
       "        vertical-align: top;\n",
       "    }\n",
       "\n",
       "    .dataframe thead th {\n",
       "        text-align: right;\n",
       "    }\n",
       "</style>\n",
       "<table border=\"1\" class=\"dataframe\">\n",
       "  <thead>\n",
       "    <tr style=\"text-align: right;\">\n",
       "      <th></th>\n",
       "      <th>id_news</th>\n",
       "      <th>country</th>\n",
       "      <th>media_outlet</th>\n",
       "      <th>url</th>\n",
       "      <th>title</th>\n",
       "      <th>text</th>\n",
       "      <th>date</th>\n",
       "      <th>search</th>\n",
       "    </tr>\n",
       "  </thead>\n",
       "  <tbody>\n",
       "    <tr>\n",
       "      <th>0</th>\n",
       "      <td>22000913.0</td>\n",
       "      <td>chile</td>\n",
       "      <td>elciudadano</td>\n",
       "      <td>https://www.elciudadano.com/actualidad/disponi...</td>\n",
       "      <td>Disponible online importante catálogo con semi...</td>\n",
       "      <td>La Fundación BIODIVERSIDAD ALIMENTARIA, señala...</td>\n",
       "      <td>2021-09-16</td>\n",
       "      <td>biodiversidad</td>\n",
       "    </tr>\n",
       "    <tr>\n",
       "      <th>1</th>\n",
       "      <td>6414845.0</td>\n",
       "      <td>chile</td>\n",
       "      <td>latercera</td>\n",
       "      <td>https://www.latercera.com/que-pasa/noticia/no-...</td>\n",
       "      <td>\"No es suficiente\": Informe reconoce que Chile...</td>\n",
       "      <td>\"Si el 2019 fue el año del cambio climático, s...</td>\n",
       "      <td>2020-01-20</td>\n",
       "      <td>biodiversidad</td>\n",
       "    </tr>\n",
       "    <tr>\n",
       "      <th>2</th>\n",
       "      <td>15637554.0</td>\n",
       "      <td>chile</td>\n",
       "      <td>emol</td>\n",
       "      <td>https://www.emol.com/noticias/Tecnologia/2016/...</td>\n",
       "      <td>Caída de la biodiversidad en el planeta supera...</td>\n",
       "      <td>MADRID.- La biodiversidad del planeta ha caído...</td>\n",
       "      <td>2016-07-14</td>\n",
       "      <td>biodiversidad</td>\n",
       "    </tr>\n",
       "    <tr>\n",
       "      <th>3</th>\n",
       "      <td>5157141.0</td>\n",
       "      <td>chile</td>\n",
       "      <td>elciudadano</td>\n",
       "      <td>https://www.elciudadano.com/chile/congreso-ava...</td>\n",
       "      <td>Congreso: Avanza votación de proyecto que crea...</td>\n",
       "      <td>La Comisión de Medio Ambiente de la Cámara de ...</td>\n",
       "      <td>2020-11-12</td>\n",
       "      <td>biodiversidad</td>\n",
       "    </tr>\n",
       "    <tr>\n",
       "      <th>4</th>\n",
       "      <td>21494220.0</td>\n",
       "      <td>chile</td>\n",
       "      <td>elrepuertero</td>\n",
       "      <td>https://www.elrepuertero.cl/noticia/sociedad/e...</td>\n",
       "      <td>En Santo Tomás abordarán la temática del manej...</td>\n",
       "      <td>Porque cada vez se hace más necesario analizar...</td>\n",
       "      <td>2017-11-20</td>\n",
       "      <td>biodiversidad</td>\n",
       "    </tr>\n",
       "    <tr>\n",
       "      <th>...</th>\n",
       "      <td>...</td>\n",
       "      <td>...</td>\n",
       "      <td>...</td>\n",
       "      <td>...</td>\n",
       "      <td>...</td>\n",
       "      <td>...</td>\n",
       "      <td>...</td>\n",
       "      <td>...</td>\n",
       "    </tr>\n",
       "    <tr>\n",
       "      <th>4278</th>\n",
       "      <td>4946124.0</td>\n",
       "      <td>chile</td>\n",
       "      <td>elciudadano</td>\n",
       "      <td>https://www.elciudadano.com/politica/debate-pr...</td>\n",
       "      <td>Debate Presidencial en Chile, ¿Qué intereses r...</td>\n",
       "      <td>El Ciudadano entrega aquí las voces, los argu...</td>\n",
       "      <td>2013-06-24</td>\n",
       "      <td>biodiversidad</td>\n",
       "    </tr>\n",
       "    <tr>\n",
       "      <th>4279</th>\n",
       "      <td>5006851.0</td>\n",
       "      <td>chile</td>\n",
       "      <td>elciudadano</td>\n",
       "      <td>https://www.elciudadano.com/medio-ambiente/la-...</td>\n",
       "      <td>La renovación de la crítica al desarrollo y el...</td>\n",
       "      <td>De a poco el Buen Vivir ha ido permeando las ...</td>\n",
       "      <td>2012-03-27</td>\n",
       "      <td>biodiversidad</td>\n",
       "    </tr>\n",
       "    <tr>\n",
       "      <th>4280</th>\n",
       "      <td>5703004.0</td>\n",
       "      <td>chile</td>\n",
       "      <td>elciudadano</td>\n",
       "      <td>https://www.elciudadano.com/organizacion-socia...</td>\n",
       "      <td>Poderes populares en América Latina: pistas es...</td>\n",
       "      <td>Compartimos la Introducción del libro colect...</td>\n",
       "      <td>2013-04-13</td>\n",
       "      <td>biodiversidad</td>\n",
       "    </tr>\n",
       "    <tr>\n",
       "      <th>4281</th>\n",
       "      <td>5654115.0</td>\n",
       "      <td>chile</td>\n",
       "      <td>ahoranoticiasmega</td>\n",
       "      <td>https://www.meganoticias.cl/nacional/226074-cu...</td>\n",
       "      <td>Cuenta Pública: Discurso completo del Presiden...</td>\n",
       "      <td>MENSAJE PRESIDENCIAL CUENTA PÚBLICA 01/JUNIO/2...</td>\n",
       "      <td>2018-06-01</td>\n",
       "      <td>biodiversidad</td>\n",
       "    </tr>\n",
       "    <tr>\n",
       "      <th>4282</th>\n",
       "      <td>21985158.0</td>\n",
       "      <td>chile</td>\n",
       "      <td>radiosago</td>\n",
       "      <td>https://www.radiosago.cl/reviva-la-primera-cue...</td>\n",
       "      <td>Reviva la Primera Cuenta Pública del President...</td>\n",
       "      <td>Honorables miembros del Congreso Nacional, Qu...</td>\n",
       "      <td>2018-06-01</td>\n",
       "      <td>biodiversidad</td>\n",
       "    </tr>\n",
       "  </tbody>\n",
       "</table>\n",
       "<p>4283 rows × 8 columns</p>\n",
       "</div>"
      ],
      "text/plain": [
       "         id_news country       media_outlet  \\\n",
       "0     22000913.0   chile        elciudadano   \n",
       "1      6414845.0   chile          latercera   \n",
       "2     15637554.0   chile               emol   \n",
       "3      5157141.0   chile        elciudadano   \n",
       "4     21494220.0   chile       elrepuertero   \n",
       "...          ...     ...                ...   \n",
       "4278   4946124.0   chile        elciudadano   \n",
       "4279   5006851.0   chile        elciudadano   \n",
       "4280   5703004.0   chile        elciudadano   \n",
       "4281   5654115.0   chile  ahoranoticiasmega   \n",
       "4282  21985158.0   chile          radiosago   \n",
       "\n",
       "                                                    url  \\\n",
       "0     https://www.elciudadano.com/actualidad/disponi...   \n",
       "1     https://www.latercera.com/que-pasa/noticia/no-...   \n",
       "2     https://www.emol.com/noticias/Tecnologia/2016/...   \n",
       "3     https://www.elciudadano.com/chile/congreso-ava...   \n",
       "4     https://www.elrepuertero.cl/noticia/sociedad/e...   \n",
       "...                                                 ...   \n",
       "4278  https://www.elciudadano.com/politica/debate-pr...   \n",
       "4279  https://www.elciudadano.com/medio-ambiente/la-...   \n",
       "4280  https://www.elciudadano.com/organizacion-socia...   \n",
       "4281  https://www.meganoticias.cl/nacional/226074-cu...   \n",
       "4282  https://www.radiosago.cl/reviva-la-primera-cue...   \n",
       "\n",
       "                                                  title  \\\n",
       "0     Disponible online importante catálogo con semi...   \n",
       "1     \"No es suficiente\": Informe reconoce que Chile...   \n",
       "2     Caída de la biodiversidad en el planeta supera...   \n",
       "3     Congreso: Avanza votación de proyecto que crea...   \n",
       "4     En Santo Tomás abordarán la temática del manej...   \n",
       "...                                                 ...   \n",
       "4278  Debate Presidencial en Chile, ¿Qué intereses r...   \n",
       "4279  La renovación de la crítica al desarrollo y el...   \n",
       "4280  Poderes populares en América Latina: pistas es...   \n",
       "4281  Cuenta Pública: Discurso completo del Presiden...   \n",
       "4282  Reviva la Primera Cuenta Pública del President...   \n",
       "\n",
       "                                                   text        date  \\\n",
       "0     La Fundación BIODIVERSIDAD ALIMENTARIA, señala...  2021-09-16   \n",
       "1     \"Si el 2019 fue el año del cambio climático, s...  2020-01-20   \n",
       "2     MADRID.- La biodiversidad del planeta ha caído...  2016-07-14   \n",
       "3     La Comisión de Medio Ambiente de la Cámara de ...  2020-11-12   \n",
       "4     Porque cada vez se hace más necesario analizar...  2017-11-20   \n",
       "...                                                 ...         ...   \n",
       "4278   El Ciudadano entrega aquí las voces, los argu...  2013-06-24   \n",
       "4279   De a poco el Buen Vivir ha ido permeando las ...  2012-03-27   \n",
       "4280    Compartimos la Introducción del libro colect...  2013-04-13   \n",
       "4281  MENSAJE PRESIDENCIAL CUENTA PÚBLICA 01/JUNIO/2...  2018-06-01   \n",
       "4282   Honorables miembros del Congreso Nacional, Qu...  2018-06-01   \n",
       "\n",
       "             search  \n",
       "0     biodiversidad  \n",
       "1     biodiversidad  \n",
       "2     biodiversidad  \n",
       "3     biodiversidad  \n",
       "4     biodiversidad  \n",
       "...             ...  \n",
       "4278  biodiversidad  \n",
       "4279  biodiversidad  \n",
       "4280  biodiversidad  \n",
       "4281  biodiversidad  \n",
       "4282  biodiversidad  \n",
       "\n",
       "[4283 rows x 8 columns]"
      ]
     },
     "execution_count": 9,
     "metadata": {},
     "output_type": "execute_result"
    }
   ],
   "source": [
    "import pandas as pd\n",
    "\n",
    "data = {'id_news':[],'country':[],'media_outlet':[],'url':[],'title':[],'text':[],'date':[],'search':[]}\n",
    "\n",
    "df = pd.DataFrame(data)  \n",
    "  \n",
    "for hit in res['hits']['hits']:\n",
    "    id_news = hit['_source']['id_news']\n",
    "    country = hit['_source']['country']\n",
    "    media_outlet = hit['_source']['media_outlet']\n",
    "    url = hit['_source']['url']\n",
    "    title = hit['_source']['title']\n",
    "    text = hit['_source']['text']\n",
    "    date = hit['_source']['date']\n",
    "    search = keyword\n",
    "    \n",
    "    new_row = {'id_news':id_news, 'country':country, 'media_outlet':media_outlet, 'url':url, 'title':title, 'text':text, 'date':date, 'search':search}\n",
    "    \n",
    "    df = df.append(new_row, ignore_index=True)\n",
    "\n",
    "df"
   ]
  },
  {
   "cell_type": "markdown",
   "id": "ff4b15bf",
   "metadata": {},
   "source": [
    "- Verifiquemos si existen noticias con la misma URL"
   ]
  },
  {
   "cell_type": "code",
   "execution_count": 10,
   "id": "1cc732ad",
   "metadata": {},
   "outputs": [
    {
     "data": {
      "text/plain": [
       "True"
      ]
     },
     "execution_count": 10,
     "metadata": {},
     "output_type": "execute_result"
    }
   ],
   "source": [
    "df['url'].duplicated().any()"
   ]
  },
  {
   "cell_type": "markdown",
   "id": "8e7424a0",
   "metadata": {},
   "source": [
    "- Eliminar las noticias duplicadas"
   ]
  },
  {
   "cell_type": "code",
   "execution_count": 11,
   "id": "a2251d2c",
   "metadata": {},
   "outputs": [],
   "source": [
    "df = df.drop_duplicates(subset='url', keep='first')"
   ]
  },
  {
   "cell_type": "markdown",
   "id": "0b2faf53",
   "metadata": {},
   "source": [
    "- Guardar los archivos en un CSV"
   ]
  },
  {
   "cell_type": "code",
   "execution_count": 12,
   "id": "b1371e58",
   "metadata": {},
   "outputs": [
    {
     "name": "stdout",
     "output_type": "stream",
     "text": [
      "El archivo se llama:\n",
      "biodiversidad_chile_2010-01-01_2021-12-31.csv\n"
     ]
    }
   ],
   "source": [
    "nombre_archivo=keyword.replace(' ', '')+\"_\"+country+\"_\"+from_+\"_\"+to_+\".csv\"\n",
    "print(\"El archivo se llama:\")\n",
    "print(nombre_archivo)\n",
    "df.to_csv(\"./\"+nombre_archivo)"
   ]
  },
  {
   "cell_type": "markdown",
   "id": "0a364f19",
   "metadata": {},
   "source": [
    "- Realizar algunas consultas SQL sobre el dataset"
   ]
  },
  {
   "cell_type": "code",
   "execution_count": 14,
   "id": "16f26651",
   "metadata": {},
   "outputs": [],
   "source": [
    "from pandasql import sqldf "
   ]
  },
  {
   "cell_type": "code",
   "execution_count": 16,
   "id": "8da54d23",
   "metadata": {},
   "outputs": [
    {
     "data": {
      "text/html": [
       "<div>\n",
       "<style scoped>\n",
       "    .dataframe tbody tr th:only-of-type {\n",
       "        vertical-align: middle;\n",
       "    }\n",
       "\n",
       "    .dataframe tbody tr th {\n",
       "        vertical-align: top;\n",
       "    }\n",
       "\n",
       "    .dataframe thead th {\n",
       "        text-align: right;\n",
       "    }\n",
       "</style>\n",
       "<table border=\"1\" class=\"dataframe\">\n",
       "  <thead>\n",
       "    <tr style=\"text-align: right;\">\n",
       "      <th></th>\n",
       "      <th>media_outlet</th>\n",
       "      <th>count(*)</th>\n",
       "    </tr>\n",
       "  </thead>\n",
       "  <tbody>\n",
       "    <tr>\n",
       "      <th>0</th>\n",
       "      <td>elciudadano</td>\n",
       "      <td>1375</td>\n",
       "    </tr>\n",
       "    <tr>\n",
       "      <th>1</th>\n",
       "      <td>latercera</td>\n",
       "      <td>421</td>\n",
       "    </tr>\n",
       "    <tr>\n",
       "      <th>2</th>\n",
       "      <td>laestrelladechiloe</td>\n",
       "      <td>329</td>\n",
       "    </tr>\n",
       "    <tr>\n",
       "      <th>3</th>\n",
       "      <td>emol</td>\n",
       "      <td>315</td>\n",
       "    </tr>\n",
       "    <tr>\n",
       "      <th>4</th>\n",
       "      <td>biobiochile</td>\n",
       "      <td>275</td>\n",
       "    </tr>\n",
       "    <tr>\n",
       "      <th>5</th>\n",
       "      <td>elllanquihue</td>\n",
       "      <td>193</td>\n",
       "    </tr>\n",
       "    <tr>\n",
       "      <th>6</th>\n",
       "      <td>elheraldoaustral</td>\n",
       "      <td>176</td>\n",
       "    </tr>\n",
       "    <tr>\n",
       "      <th>7</th>\n",
       "      <td>elrepuertero</td>\n",
       "      <td>156</td>\n",
       "    </tr>\n",
       "    <tr>\n",
       "      <th>8</th>\n",
       "      <td>radiopudeto</td>\n",
       "      <td>127</td>\n",
       "    </tr>\n",
       "    <tr>\n",
       "      <th>9</th>\n",
       "      <td>elhuemul</td>\n",
       "      <td>119</td>\n",
       "    </tr>\n",
       "    <tr>\n",
       "      <th>10</th>\n",
       "      <td>elvacanudo</td>\n",
       "      <td>118</td>\n",
       "    </tr>\n",
       "    <tr>\n",
       "      <th>11</th>\n",
       "      <td>elaustral</td>\n",
       "      <td>115</td>\n",
       "    </tr>\n",
       "    <tr>\n",
       "      <th>12</th>\n",
       "      <td>ahoranoticiasmega</td>\n",
       "      <td>84</td>\n",
       "    </tr>\n",
       "    <tr>\n",
       "      <th>13</th>\n",
       "      <td>elmostrador</td>\n",
       "      <td>74</td>\n",
       "    </tr>\n",
       "    <tr>\n",
       "      <th>14</th>\n",
       "      <td>horas24</td>\n",
       "      <td>73</td>\n",
       "    </tr>\n",
       "    <tr>\n",
       "      <th>15</th>\n",
       "      <td>radiosago</td>\n",
       "      <td>52</td>\n",
       "    </tr>\n",
       "    <tr>\n",
       "      <th>16</th>\n",
       "      <td>elinsular</td>\n",
       "      <td>20</td>\n",
       "    </tr>\n",
       "    <tr>\n",
       "      <th>17</th>\n",
       "      <td>enlanoticia</td>\n",
       "      <td>16</td>\n",
       "    </tr>\n",
       "    <tr>\n",
       "      <th>18</th>\n",
       "      <td>elquellonino</td>\n",
       "      <td>11</td>\n",
       "    </tr>\n",
       "    <tr>\n",
       "      <th>19</th>\n",
       "      <td>segundos33</td>\n",
       "      <td>6</td>\n",
       "    </tr>\n",
       "    <tr>\n",
       "      <th>20</th>\n",
       "      <td>seminariolocal</td>\n",
       "      <td>5</td>\n",
       "    </tr>\n",
       "    <tr>\n",
       "      <th>21</th>\n",
       "      <td>radioacogida</td>\n",
       "      <td>5</td>\n",
       "    </tr>\n",
       "    <tr>\n",
       "      <th>22</th>\n",
       "      <td>elcalbucano</td>\n",
       "      <td>5</td>\n",
       "    </tr>\n",
       "    <tr>\n",
       "      <th>23</th>\n",
       "      <td>soychiloe</td>\n",
       "      <td>4</td>\n",
       "    </tr>\n",
       "    <tr>\n",
       "      <th>24</th>\n",
       "      <td>prensadelestuario</td>\n",
       "      <td>2</td>\n",
       "    </tr>\n",
       "    <tr>\n",
       "      <th>25</th>\n",
       "      <td>cnnchile</td>\n",
       "      <td>2</td>\n",
       "    </tr>\n",
       "    <tr>\n",
       "      <th>26</th>\n",
       "      <td>soyosorno</td>\n",
       "      <td>1</td>\n",
       "    </tr>\n",
       "    <tr>\n",
       "      <th>27</th>\n",
       "      <td>fresiaahora</td>\n",
       "      <td>1</td>\n",
       "    </tr>\n",
       "  </tbody>\n",
       "</table>\n",
       "</div>"
      ],
      "text/plain": [
       "          media_outlet  count(*)\n",
       "0          elciudadano      1375\n",
       "1            latercera       421\n",
       "2   laestrelladechiloe       329\n",
       "3                 emol       315\n",
       "4          biobiochile       275\n",
       "5         elllanquihue       193\n",
       "6     elheraldoaustral       176\n",
       "7         elrepuertero       156\n",
       "8          radiopudeto       127\n",
       "9             elhuemul       119\n",
       "10          elvacanudo       118\n",
       "11           elaustral       115\n",
       "12   ahoranoticiasmega        84\n",
       "13         elmostrador        74\n",
       "14             horas24        73\n",
       "15           radiosago        52\n",
       "16           elinsular        20\n",
       "17         enlanoticia        16\n",
       "18        elquellonino        11\n",
       "19          segundos33         6\n",
       "20      seminariolocal         5\n",
       "21        radioacogida         5\n",
       "22         elcalbucano         5\n",
       "23           soychiloe         4\n",
       "24   prensadelestuario         2\n",
       "25            cnnchile         2\n",
       "26           soyosorno         1\n",
       "27         fresiaahora         1"
      ]
     },
     "execution_count": 16,
     "metadata": {},
     "output_type": "execute_result"
    }
   ],
   "source": [
    "result = sqldf(\"SELECT media_outlet,count(*) FROM df GROUP BY media_outlet ORDER BY count(*) DESC\")\n",
    "result"
   ]
  },
  {
   "cell_type": "code",
   "execution_count": null,
   "id": "eca4c33d",
   "metadata": {},
   "outputs": [],
   "source": []
  }
 ],
 "metadata": {
  "kernelspec": {
   "display_name": "Python 3 (ipykernel)",
   "language": "python",
   "name": "python3"
  },
  "language_info": {
   "codemirror_mode": {
    "name": "ipython",
    "version": 3
   },
   "file_extension": ".py",
   "mimetype": "text/x-python",
   "name": "python",
   "nbconvert_exporter": "python",
   "pygments_lexer": "ipython3",
   "version": "3.8.10"
  }
 },
 "nbformat": 4,
 "nbformat_minor": 5
}
